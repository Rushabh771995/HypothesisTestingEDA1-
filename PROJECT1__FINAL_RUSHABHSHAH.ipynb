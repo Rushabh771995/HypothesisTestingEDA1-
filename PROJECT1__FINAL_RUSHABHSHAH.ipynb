{
  "nbformat": 4,
  "nbformat_minor": 0,
  "metadata": {
    "colab": {
      "name": "PROJECT1__FINAL_RUSHABHSHAH.ipynb",
      "provenance": []
    },
    "kernelspec": {
      "name": "python3",
      "display_name": "Python 3"
    }
  },
  "cells": [
    {
      "cell_type": "code",
      "metadata": {
        "id": "5R5Xl8iSLpaf"
      },
      "source": [
        "import pandas as pd\n",
        "import matplotlib.pyplot as plt\n",
        "import requests\n",
        "from matplotlib import pyplot as plt\n",
        "from datetime import datetime\n",
        "import seaborn as sns\n",
        "import time"
      ],
      "execution_count": null,
      "outputs": []
    },
    {
      "cell_type": "markdown",
      "metadata": {
        "id": "k0qGn4cjWFSM"
      },
      "source": [
        "Hypothesis: The area where people pay more city taxes in property will have more pre-approved credit applicants.\n",
        " "
      ]
    },
    {
      "cell_type": "markdown",
      "metadata": {
        "id": "WPwj4yuoVl7B"
      },
      "source": [
        "Data Source1: https://data.baltimorecity.gov/Financial/Real-Property-Taxes/27w9-urtv/data This data resembles the property taxes that people of different zipcodes pay. I have selected City taxes to compare. "
      ]
    },
    {
      "cell_type": "markdown",
      "metadata": {
        "id": "v7FJVo_ZYzb9"
      },
      "source": [
        "The columns and rows in this datasets are 19 and 238135 respectively."
      ]
    },
    {
      "cell_type": "code",
      "metadata": {
        "id": "tVBjyIWELs29",
        "colab": {
          "base_uri": "https://localhost:8080/",
          "height": 417
        },
        "outputId": "3a62b6f2-723c-49fd-e533-4bdeac16af9d"
      },
      "source": [
        "#loading the data\n",
        "propertytaxes_df =pd.read_csv(\"https://data.baltimorecity.gov/api/views/27w9-urtv/rows.csv?accessType=DOWNLOAD\")\n",
        "propertytaxes_df.head()"
      ],
      "execution_count": null,
      "outputs": [
        {
          "output_type": "execute_result",
          "data": {
            "text/html": [
              "<div>\n",
              "<style scoped>\n",
              "    .dataframe tbody tr th:only-of-type {\n",
              "        vertical-align: middle;\n",
              "    }\n",
              "\n",
              "    .dataframe tbody tr th {\n",
              "        vertical-align: top;\n",
              "    }\n",
              "\n",
              "    .dataframe thead th {\n",
              "        text-align: right;\n",
              "    }\n",
              "</style>\n",
              "<table border=\"1\" class=\"dataframe\">\n",
              "  <thead>\n",
              "    <tr style=\"text-align: right;\">\n",
              "      <th></th>\n",
              "      <th>PropertyID</th>\n",
              "      <th>Block</th>\n",
              "      <th>Lot</th>\n",
              "      <th>Ward</th>\n",
              "      <th>Sect</th>\n",
              "      <th>PropertyAddress</th>\n",
              "      <th>LotSize</th>\n",
              "      <th>CityTax</th>\n",
              "      <th>StateTax</th>\n",
              "      <th>ResCode</th>\n",
              "      <th>AmountDue</th>\n",
              "      <th>AsOfDate</th>\n",
              "      <th>Neighborhood</th>\n",
              "      <th>PoliceDistrict</th>\n",
              "      <th>CouncilDistrict</th>\n",
              "      <th>Location</th>\n",
              "      <th>2010 Census Neighborhoods</th>\n",
              "      <th>2010 Census Wards Precincts</th>\n",
              "      <th>Zip Codes</th>\n",
              "    </tr>\n",
              "  </thead>\n",
              "  <tbody>\n",
              "    <tr>\n",
              "      <th>0</th>\n",
              "      <td>0325023</td>\n",
              "      <td>0325</td>\n",
              "      <td>023</td>\n",
              "      <td>14</td>\n",
              "      <td>30</td>\n",
              "      <td>1901 LINDEN AVE</td>\n",
              "      <td>0.033 ACRES</td>\n",
              "      <td>4246.47</td>\n",
              "      <td>211.57</td>\n",
              "      <td>NOT A PRINCIPAL RESIDENCE</td>\n",
              "      <td>2045.81</td>\n",
              "      <td>10/15/2019</td>\n",
              "      <td>Bolton Hill</td>\n",
              "      <td>Central</td>\n",
              "      <td>11.0</td>\n",
              "      <td>(39.30984989, -76.63092357)</td>\n",
              "      <td>21.0</td>\n",
              "      <td>99.0</td>\n",
              "      <td>27301.0</td>\n",
              "    </tr>\n",
              "    <tr>\n",
              "      <th>1</th>\n",
              "      <td>3844100</td>\n",
              "      <td>3844</td>\n",
              "      <td>100</td>\n",
              "      <td>12</td>\n",
              "      <td>170</td>\n",
              "      <td>343 E 28TH ST</td>\n",
              "      <td>16X85</td>\n",
              "      <td>1094.78</td>\n",
              "      <td>54.54</td>\n",
              "      <td>NOT A PRINCIPAL RESIDENCE</td>\n",
              "      <td>1294.02</td>\n",
              "      <td>02/29/2020</td>\n",
              "      <td>Harwood</td>\n",
              "      <td>Northern</td>\n",
              "      <td>12.0</td>\n",
              "      <td>(39.32194481, -76.61133401)</td>\n",
              "      <td>98.0</td>\n",
              "      <td>33.0</td>\n",
              "      <td>27307.0</td>\n",
              "    </tr>\n",
              "    <tr>\n",
              "      <th>2</th>\n",
              "      <td>0511024</td>\n",
              "      <td>0511</td>\n",
              "      <td>024</td>\n",
              "      <td>11</td>\n",
              "      <td>20</td>\n",
              "      <td>13 - 15 W EAGER ST</td>\n",
              "      <td>0.140 ACRES</td>\n",
              "      <td>19060.79</td>\n",
              "      <td>949.65</td>\n",
              "      <td>NOT A PRINCIPAL RESIDENCE</td>\n",
              "      <td>10464.99</td>\n",
              "      <td>02/01/2020</td>\n",
              "      <td>Mid-Town Belvedere</td>\n",
              "      <td>Central</td>\n",
              "      <td>11.0</td>\n",
              "      <td>(39.30074569, -76.61697244)</td>\n",
              "      <td>151.0</td>\n",
              "      <td>93.0</td>\n",
              "      <td>13642.0</td>\n",
              "    </tr>\n",
              "    <tr>\n",
              "      <th>3</th>\n",
              "      <td>3845006H</td>\n",
              "      <td>3845</td>\n",
              "      <td>006H</td>\n",
              "      <td>12</td>\n",
              "      <td>170</td>\n",
              "      <td>437 E 28TH ST</td>\n",
              "      <td>15X85-6</td>\n",
              "      <td>899.20</td>\n",
              "      <td>44.80</td>\n",
              "      <td>NOT A PRINCIPAL RESIDENCE</td>\n",
              "      <td>1054.58</td>\n",
              "      <td>02/29/2020</td>\n",
              "      <td>Harwood</td>\n",
              "      <td>Northern</td>\n",
              "      <td>12.0</td>\n",
              "      <td>(39.32194511, -76.61002851)</td>\n",
              "      <td>98.0</td>\n",
              "      <td>33.0</td>\n",
              "      <td>27307.0</td>\n",
              "    </tr>\n",
              "    <tr>\n",
              "      <th>4</th>\n",
              "      <td>3847023</td>\n",
              "      <td>3847</td>\n",
              "      <td>023</td>\n",
              "      <td>12</td>\n",
              "      <td>170</td>\n",
              "      <td>310 E 28TH ST</td>\n",
              "      <td>15-4X85</td>\n",
              "      <td>2589.70</td>\n",
              "      <td>129.02</td>\n",
              "      <td>PRINCIPAL RESIDENCE</td>\n",
              "      <td>2317.80</td>\n",
              "      <td>02/29/2020</td>\n",
              "      <td>Harwood</td>\n",
              "      <td>Northern</td>\n",
              "      <td>12.0</td>\n",
              "      <td>(39.32232093, -76.61225729)</td>\n",
              "      <td>98.0</td>\n",
              "      <td>33.0</td>\n",
              "      <td>27307.0</td>\n",
              "    </tr>\n",
              "  </tbody>\n",
              "</table>\n",
              "</div>"
            ],
            "text/plain": [
              "  PropertyID Block  ... 2010 Census Wards Precincts  Zip Codes\n",
              "0    0325023  0325  ...                        99.0    27301.0\n",
              "1    3844100  3844  ...                        33.0    27307.0\n",
              "2    0511024  0511  ...                        93.0    13642.0\n",
              "3   3845006H  3845  ...                        33.0    27307.0\n",
              "4    3847023  3847  ...                        33.0    27307.0\n",
              "\n",
              "[5 rows x 19 columns]"
            ]
          },
          "metadata": {
            "tags": []
          },
          "execution_count": 29
        }
      ]
    },
    {
      "cell_type": "code",
      "metadata": {
        "id": "9mlki0qFNI8r",
        "colab": {
          "base_uri": "https://localhost:8080/",
          "height": 284
        },
        "outputId": "3016f7d0-6638-4924-ce5a-002a5925b751"
      },
      "source": [
        "#checking about outliers and knowing mpre about the dataset.\r\n",
        "propertytaxes_df.describe()"
      ],
      "execution_count": null,
      "outputs": [
        {
          "output_type": "execute_result",
          "data": {
            "text/html": [
              "<div>\n",
              "<style scoped>\n",
              "    .dataframe tbody tr th:only-of-type {\n",
              "        vertical-align: middle;\n",
              "    }\n",
              "\n",
              "    .dataframe tbody tr th {\n",
              "        vertical-align: top;\n",
              "    }\n",
              "\n",
              "    .dataframe thead th {\n",
              "        text-align: right;\n",
              "    }\n",
              "</style>\n",
              "<table border=\"1\" class=\"dataframe\">\n",
              "  <thead>\n",
              "    <tr style=\"text-align: right;\">\n",
              "      <th></th>\n",
              "      <th>Ward</th>\n",
              "      <th>Sect</th>\n",
              "      <th>CityTax</th>\n",
              "      <th>StateTax</th>\n",
              "      <th>AmountDue</th>\n",
              "      <th>CouncilDistrict</th>\n",
              "      <th>2010 Census Neighborhoods</th>\n",
              "      <th>2010 Census Wards Precincts</th>\n",
              "      <th>Zip Codes</th>\n",
              "    </tr>\n",
              "  </thead>\n",
              "  <tbody>\n",
              "    <tr>\n",
              "      <th>count</th>\n",
              "      <td>238135.000000</td>\n",
              "      <td>238135.000000</td>\n",
              "      <td>2.193330e+05</td>\n",
              "      <td>219534.000000</td>\n",
              "      <td>1.648560e+05</td>\n",
              "      <td>222051.000000</td>\n",
              "      <td>222024.000000</td>\n",
              "      <td>221798.000000</td>\n",
              "      <td>222063.000000</td>\n",
              "    </tr>\n",
              "    <tr>\n",
              "      <th>mean</th>\n",
              "      <td>18.668864</td>\n",
              "      <td>145.150062</td>\n",
              "      <td>4.150850e+03</td>\n",
              "      <td>210.060009</td>\n",
              "      <td>3.132867e+03</td>\n",
              "      <td>7.590765</td>\n",
              "      <td>131.938250</td>\n",
              "      <td>146.150853</td>\n",
              "      <td>24488.046176</td>\n",
              "    </tr>\n",
              "    <tr>\n",
              "      <th>std</th>\n",
              "      <td>8.199666</td>\n",
              "      <td>134.000118</td>\n",
              "      <td>3.751563e+04</td>\n",
              "      <td>1927.446042</td>\n",
              "      <td>2.720699e+04</td>\n",
              "      <td>4.043910</td>\n",
              "      <td>83.664427</td>\n",
              "      <td>82.520758</td>\n",
              "      <td>5726.110336</td>\n",
              "    </tr>\n",
              "    <tr>\n",
              "      <th>min</th>\n",
              "      <td>1.000000</td>\n",
              "      <td>0.000000</td>\n",
              "      <td>2.250000e+00</td>\n",
              "      <td>0.110000</td>\n",
              "      <td>1.000000e-02</td>\n",
              "      <td>1.000000</td>\n",
              "      <td>1.000000</td>\n",
              "      <td>1.000000</td>\n",
              "      <td>13642.000000</td>\n",
              "    </tr>\n",
              "    <tr>\n",
              "      <th>25%</th>\n",
              "      <td>12.000000</td>\n",
              "      <td>50.000000</td>\n",
              "      <td>8.092800e+02</td>\n",
              "      <td>40.320000</td>\n",
              "      <td>7.063400e+02</td>\n",
              "      <td>4.000000</td>\n",
              "      <td>54.000000</td>\n",
              "      <td>75.000000</td>\n",
              "      <td>26956.000000</td>\n",
              "    </tr>\n",
              "    <tr>\n",
              "      <th>50%</th>\n",
              "      <td>20.000000</td>\n",
              "      <td>110.000000</td>\n",
              "      <td>2.378380e+03</td>\n",
              "      <td>118.610000</td>\n",
              "      <td>1.496995e+03</td>\n",
              "      <td>8.000000</td>\n",
              "      <td>122.000000</td>\n",
              "      <td>151.000000</td>\n",
              "      <td>27301.000000</td>\n",
              "    </tr>\n",
              "    <tr>\n",
              "      <th>75%</th>\n",
              "      <td>27.000000</td>\n",
              "      <td>200.000000</td>\n",
              "      <td>3.715940e+03</td>\n",
              "      <td>185.130000</td>\n",
              "      <td>2.786230e+03</td>\n",
              "      <td>11.000000</td>\n",
              "      <td>210.000000</td>\n",
              "      <td>214.000000</td>\n",
              "      <td>27935.000000</td>\n",
              "    </tr>\n",
              "    <tr>\n",
              "      <th>max</th>\n",
              "      <td>50.000000</td>\n",
              "      <td>690.000000</td>\n",
              "      <td>6.276443e+06</td>\n",
              "      <td>312705.340000</td>\n",
              "      <td>4.481095e+06</td>\n",
              "      <td>14.000000</td>\n",
              "      <td>278.000000</td>\n",
              "      <td>290.000000</td>\n",
              "      <td>28570.000000</td>\n",
              "    </tr>\n",
              "  </tbody>\n",
              "</table>\n",
              "</div>"
            ],
            "text/plain": [
              "                Ward           Sect  ...  2010 Census Wards Precincts      Zip Codes\n",
              "count  238135.000000  238135.000000  ...                221798.000000  222063.000000\n",
              "mean       18.668864     145.150062  ...                   146.150853   24488.046176\n",
              "std         8.199666     134.000118  ...                    82.520758    5726.110336\n",
              "min         1.000000       0.000000  ...                     1.000000   13642.000000\n",
              "25%        12.000000      50.000000  ...                    75.000000   26956.000000\n",
              "50%        20.000000     110.000000  ...                   151.000000   27301.000000\n",
              "75%        27.000000     200.000000  ...                   214.000000   27935.000000\n",
              "max        50.000000     690.000000  ...                   290.000000   28570.000000\n",
              "\n",
              "[8 rows x 9 columns]"
            ]
          },
          "metadata": {
            "tags": []
          },
          "execution_count": 30
        }
      ]
    },
    {
      "cell_type": "code",
      "metadata": {
        "id": "a47wRv_hfleq",
        "colab": {
          "base_uri": "https://localhost:8080/",
          "height": 353
        },
        "outputId": "9c08b312-5c6d-4658-db00-e4dfa24148ae"
      },
      "source": [
        "#checking if there are any null values so we can drop them.\r\n",
        "propertytaxes_df.isnull().sum()"
      ],
      "execution_count": null,
      "outputs": [
        {
          "output_type": "execute_result",
          "data": {
            "text/plain": [
              "PropertyID                         0\n",
              "Block                              0\n",
              "Lot                                0\n",
              "Ward                               0\n",
              "Sect                               0\n",
              "PropertyAddress                    5\n",
              "LotSize                            0\n",
              "CityTax                        18802\n",
              "StateTax                       18601\n",
              "ResCode                            0\n",
              "AmountDue                      73279\n",
              "AsOfDate                           0\n",
              "Neighborhood                   16112\n",
              "PoliceDistrict                 16112\n",
              "CouncilDistrict                16084\n",
              "Location                       16072\n",
              "2010 Census Neighborhoods      16111\n",
              "2010 Census Wards Precincts    16337\n",
              "Zip Codes                      16072\n",
              "dtype: int64"
            ]
          },
          "metadata": {
            "tags": []
          },
          "execution_count": 46
        }
      ]
    },
    {
      "cell_type": "markdown",
      "metadata": {
        "id": "GD7_TP6Bfw1p"
      },
      "source": [
        "The zip code column of the dataframe had missing values. But as I am going to compare the city tax per zip code if there is no zipcode then that row is not useful for the hypothesis. But later the other values in the same rows might be useful. Therefore I have not dropped the missing values and have kept them as it is. "
      ]
    },
    {
      "cell_type": "markdown",
      "metadata": {
        "id": "giv1ZTihWejB"
      },
      "source": [
        "Selecting the location of the columns necessary and storing them as a new data frame. Then grouping them by zipcodes and calculating mean values of city taxes in each Zipcodes. Reseting the index.\n"
      ]
    },
    {
      "cell_type": "code",
      "metadata": {
        "id": "OC1lhLXUOgQn"
      },
      "source": [
        "new_df=propertytaxes_df.loc[:, [\"Zip Codes\", \"CityTax\"]]\n",
        "new_df = new_df.groupby('Zip Codes').mean().reset_index()\n",
        "#Converting the Zip Codes to integer as its value was coming in float.\n",
        "new_df['Zip Codes']=new_df['Zip Codes'].astype(int) "
      ],
      "execution_count": null,
      "outputs": []
    },
    {
      "cell_type": "code",
      "metadata": {
        "id": "Web5XZuzRHfA",
        "colab": {
          "base_uri": "https://localhost:8080/",
          "height": 195
        },
        "outputId": "845f1e21-e76c-42eb-d8a9-49bf33747c4a"
      },
      "source": [
        "new_df.head()"
      ],
      "execution_count": null,
      "outputs": [
        {
          "output_type": "execute_result",
          "data": {
            "text/html": [
              "<div>\n",
              "<style scoped>\n",
              "    .dataframe tbody tr th:only-of-type {\n",
              "        vertical-align: middle;\n",
              "    }\n",
              "\n",
              "    .dataframe tbody tr th {\n",
              "        vertical-align: top;\n",
              "    }\n",
              "\n",
              "    .dataframe thead th {\n",
              "        text-align: right;\n",
              "    }\n",
              "</style>\n",
              "<table border=\"1\" class=\"dataframe\">\n",
              "  <thead>\n",
              "    <tr style=\"text-align: right;\">\n",
              "      <th></th>\n",
              "      <th>Zip Codes</th>\n",
              "      <th>CityTax</th>\n",
              "    </tr>\n",
              "  </thead>\n",
              "  <tbody>\n",
              "    <tr>\n",
              "      <th>0</th>\n",
              "      <td>13642</td>\n",
              "      <td>15564.248050</td>\n",
              "    </tr>\n",
              "    <tr>\n",
              "      <th>1</th>\n",
              "      <td>13645</td>\n",
              "      <td>16976.717937</td>\n",
              "    </tr>\n",
              "    <tr>\n",
              "      <th>2</th>\n",
              "      <td>13987</td>\n",
              "      <td>2498.055235</td>\n",
              "    </tr>\n",
              "    <tr>\n",
              "      <th>3</th>\n",
              "      <td>13991</td>\n",
              "      <td>3288.764465</td>\n",
              "    </tr>\n",
              "    <tr>\n",
              "      <th>4</th>\n",
              "      <td>13995</td>\n",
              "      <td>3569.498716</td>\n",
              "    </tr>\n",
              "  </tbody>\n",
              "</table>\n",
              "</div>"
            ],
            "text/plain": [
              "   Zip Codes       CityTax\n",
              "0      13642  15564.248050\n",
              "1      13645  16976.717937\n",
              "2      13987   2498.055235\n",
              "3      13991   3288.764465\n",
              "4      13995   3569.498716"
            ]
          },
          "metadata": {
            "tags": []
          },
          "execution_count": 32
        }
      ]
    },
    {
      "cell_type": "code",
      "metadata": {
        "id": "X3qngMfaFTsm",
        "colab": {
          "base_uri": "https://localhost:8080/",
          "height": 67
        },
        "outputId": "86eaa8e1-e398-4312-87db-732b2f250c11"
      },
      "source": [
        "new_df.isnull().sum()"
      ],
      "execution_count": null,
      "outputs": [
        {
          "output_type": "execute_result",
          "data": {
            "text/plain": [
              "Zip Codes    0\n",
              "CityTax      1\n",
              "dtype: int64"
            ]
          },
          "metadata": {
            "tags": []
          },
          "execution_count": 33
        }
      ]
    },
    {
      "cell_type": "code",
      "metadata": {
        "id": "VsBgx3cYNOVq",
        "colab": {
          "base_uri": "https://localhost:8080/",
          "height": 312
        },
        "outputId": "a3bf4c4b-76ce-4e45-cf68-08cdcad4e465"
      },
      "source": [
        "propertytaxes_df.groupby(\"Zip Codes\").count().head()"
      ],
      "execution_count": null,
      "outputs": [
        {
          "output_type": "execute_result",
          "data": {
            "text/html": [
              "<div>\n",
              "<style scoped>\n",
              "    .dataframe tbody tr th:only-of-type {\n",
              "        vertical-align: middle;\n",
              "    }\n",
              "\n",
              "    .dataframe tbody tr th {\n",
              "        vertical-align: top;\n",
              "    }\n",
              "\n",
              "    .dataframe thead th {\n",
              "        text-align: right;\n",
              "    }\n",
              "</style>\n",
              "<table border=\"1\" class=\"dataframe\">\n",
              "  <thead>\n",
              "    <tr style=\"text-align: right;\">\n",
              "      <th></th>\n",
              "      <th>PropertyID</th>\n",
              "      <th>Block</th>\n",
              "      <th>Lot</th>\n",
              "      <th>Ward</th>\n",
              "      <th>Sect</th>\n",
              "      <th>PropertyAddress</th>\n",
              "      <th>LotSize</th>\n",
              "      <th>CityTax</th>\n",
              "      <th>StateTax</th>\n",
              "      <th>ResCode</th>\n",
              "      <th>AmountDue</th>\n",
              "      <th>AsOfDate</th>\n",
              "      <th>Neighborhood</th>\n",
              "      <th>PoliceDistrict</th>\n",
              "      <th>CouncilDistrict</th>\n",
              "      <th>Location</th>\n",
              "      <th>2010 Census Neighborhoods</th>\n",
              "      <th>2010 Census Wards Precincts</th>\n",
              "    </tr>\n",
              "    <tr>\n",
              "      <th>Zip Codes</th>\n",
              "      <th></th>\n",
              "      <th></th>\n",
              "      <th></th>\n",
              "      <th></th>\n",
              "      <th></th>\n",
              "      <th></th>\n",
              "      <th></th>\n",
              "      <th></th>\n",
              "      <th></th>\n",
              "      <th></th>\n",
              "      <th></th>\n",
              "      <th></th>\n",
              "      <th></th>\n",
              "      <th></th>\n",
              "      <th></th>\n",
              "      <th></th>\n",
              "      <th></th>\n",
              "      <th></th>\n",
              "    </tr>\n",
              "  </thead>\n",
              "  <tbody>\n",
              "    <tr>\n",
              "      <th>13642.0</th>\n",
              "      <td>3137</td>\n",
              "      <td>3137</td>\n",
              "      <td>3137</td>\n",
              "      <td>3137</td>\n",
              "      <td>3137</td>\n",
              "      <td>3137</td>\n",
              "      <td>3137</td>\n",
              "      <td>2251</td>\n",
              "      <td>2257</td>\n",
              "      <td>3137</td>\n",
              "      <td>1682</td>\n",
              "      <td>3137</td>\n",
              "      <td>3137</td>\n",
              "      <td>3137</td>\n",
              "      <td>3137</td>\n",
              "      <td>3137</td>\n",
              "      <td>3137</td>\n",
              "      <td>3137</td>\n",
              "    </tr>\n",
              "    <tr>\n",
              "      <th>13645.0</th>\n",
              "      <td>4893</td>\n",
              "      <td>4893</td>\n",
              "      <td>4893</td>\n",
              "      <td>4893</td>\n",
              "      <td>4893</td>\n",
              "      <td>4893</td>\n",
              "      <td>4893</td>\n",
              "      <td>3466</td>\n",
              "      <td>3472</td>\n",
              "      <td>4893</td>\n",
              "      <td>2113</td>\n",
              "      <td>4893</td>\n",
              "      <td>4891</td>\n",
              "      <td>4891</td>\n",
              "      <td>4893</td>\n",
              "      <td>4893</td>\n",
              "      <td>4891</td>\n",
              "      <td>4891</td>\n",
              "    </tr>\n",
              "    <tr>\n",
              "      <th>13987.0</th>\n",
              "      <td>5691</td>\n",
              "      <td>5691</td>\n",
              "      <td>5691</td>\n",
              "      <td>5691</td>\n",
              "      <td>5691</td>\n",
              "      <td>5691</td>\n",
              "      <td>5691</td>\n",
              "      <td>4949</td>\n",
              "      <td>4963</td>\n",
              "      <td>5691</td>\n",
              "      <td>2442</td>\n",
              "      <td>5691</td>\n",
              "      <td>5691</td>\n",
              "      <td>5691</td>\n",
              "      <td>5691</td>\n",
              "      <td>5691</td>\n",
              "      <td>5691</td>\n",
              "      <td>5691</td>\n",
              "    </tr>\n",
              "    <tr>\n",
              "      <th>13991.0</th>\n",
              "      <td>12058</td>\n",
              "      <td>12058</td>\n",
              "      <td>12058</td>\n",
              "      <td>12058</td>\n",
              "      <td>12058</td>\n",
              "      <td>12058</td>\n",
              "      <td>12058</td>\n",
              "      <td>11784</td>\n",
              "      <td>11787</td>\n",
              "      <td>12058</td>\n",
              "      <td>10953</td>\n",
              "      <td>12058</td>\n",
              "      <td>12055</td>\n",
              "      <td>12055</td>\n",
              "      <td>12055</td>\n",
              "      <td>12058</td>\n",
              "      <td>12055</td>\n",
              "      <td>12028</td>\n",
              "    </tr>\n",
              "    <tr>\n",
              "      <th>13995.0</th>\n",
              "      <td>3809</td>\n",
              "      <td>3809</td>\n",
              "      <td>3809</td>\n",
              "      <td>3809</td>\n",
              "      <td>3809</td>\n",
              "      <td>3809</td>\n",
              "      <td>3809</td>\n",
              "      <td>3636</td>\n",
              "      <td>3636</td>\n",
              "      <td>3809</td>\n",
              "      <td>2658</td>\n",
              "      <td>3809</td>\n",
              "      <td>3809</td>\n",
              "      <td>3809</td>\n",
              "      <td>3809</td>\n",
              "      <td>3809</td>\n",
              "      <td>3809</td>\n",
              "      <td>3801</td>\n",
              "    </tr>\n",
              "  </tbody>\n",
              "</table>\n",
              "</div>"
            ],
            "text/plain": [
              "           PropertyID  ...  2010 Census Wards Precincts\n",
              "Zip Codes              ...                             \n",
              "13642.0          3137  ...                         3137\n",
              "13645.0          4893  ...                         4891\n",
              "13987.0          5691  ...                         5691\n",
              "13991.0         12058  ...                        12028\n",
              "13995.0          3809  ...                         3801\n",
              "\n",
              "[5 rows x 18 columns]"
            ]
          },
          "metadata": {
            "tags": []
          },
          "execution_count": 34
        }
      ]
    },
    {
      "cell_type": "markdown",
      "metadata": {
        "id": "t5_Pw2rGjn17"
      },
      "source": [
        "Here by using groupby.count() we can check the number of property ids in a particular zipcode or number of ids used to pay property taxes in an individual zipcode.\n",
        " "
      ]
    },
    {
      "cell_type": "markdown",
      "metadata": {
        "id": "HxlBUNzbW6MV"
      },
      "source": [
        "#Second Data: People having preliminary approval according to zipcodes.\n",
        "Source- https://data.baltimorecity.gov/Financial/Historic-Tax-Credit-Applicants-Given-Preliminary-A/iub8-xy78/data\n"
      ]
    },
    {
      "cell_type": "markdown",
      "metadata": {
        "id": "J14Ix8YpZG5-"
      },
      "source": [
        "The number of columns and rows in this data set are 11 and 175 respectively."
      ]
    },
    {
      "cell_type": "code",
      "metadata": {
        "id": "i5ru8IZnMPIA",
        "colab": {
          "base_uri": "https://localhost:8080/",
          "height": 586
        },
        "outputId": "d7c16368-1fba-4b79-9825-e3850d9717d5"
      },
      "source": [
        "approvedapplicants_df = pd.read_csv(\"https://data.baltimorecity.gov/api/views/iub8-xy78/rows.csv?accessType=DOWNLOAD\")\n",
        "approvedapplicants_df"
      ],
      "execution_count": null,
      "outputs": [
        {
          "output_type": "execute_result",
          "data": {
            "text/html": [
              "<div>\n",
              "<style scoped>\n",
              "    .dataframe tbody tr th:only-of-type {\n",
              "        vertical-align: middle;\n",
              "    }\n",
              "\n",
              "    .dataframe tbody tr th {\n",
              "        vertical-align: top;\n",
              "    }\n",
              "\n",
              "    .dataframe thead th {\n",
              "        text-align: right;\n",
              "    }\n",
              "</style>\n",
              "<table border=\"1\" class=\"dataframe\">\n",
              "  <thead>\n",
              "    <tr style=\"text-align: right;\">\n",
              "      <th></th>\n",
              "      <th>Property Address</th>\n",
              "      <th>Zip Code</th>\n",
              "      <th>Historic District</th>\n",
              "      <th>District Type</th>\n",
              "      <th>Application Date</th>\n",
              "      <th>Preliminary Approval</th>\n",
              "      <th>Final Certification</th>\n",
              "      <th>Location 1</th>\n",
              "      <th>2010 Census Neighborhoods</th>\n",
              "      <th>2010 Census Wards Precincts</th>\n",
              "      <th>Zip Codes</th>\n",
              "    </tr>\n",
              "  </thead>\n",
              "  <tbody>\n",
              "    <tr>\n",
              "      <th>0</th>\n",
              "      <td>142 W. Lanvale Street</td>\n",
              "      <td>21217</td>\n",
              "      <td>Bolton Hill</td>\n",
              "      <td>Local &amp; National District</td>\n",
              "      <td>01/15/2010</td>\n",
              "      <td>01/26/2010</td>\n",
              "      <td>01/14/2011</td>\n",
              "      <td>142 Lanvale Street\\nBaltimore, MD\\n(39.308851,...</td>\n",
              "      <td>95</td>\n",
              "      <td>158</td>\n",
              "      <td>13645</td>\n",
              "    </tr>\n",
              "    <tr>\n",
              "      <th>1</th>\n",
              "      <td>1125 St. Paul St</td>\n",
              "      <td>0</td>\n",
              "      <td>Mount Vernon</td>\n",
              "      <td>Local &amp; National District</td>\n",
              "      <td>08/26/2010</td>\n",
              "      <td>08/31/2010</td>\n",
              "      <td>NaN</td>\n",
              "      <td>1125 St Paul St\\nBaltimore, MD\\n(39.303253, -7...</td>\n",
              "      <td>151</td>\n",
              "      <td>97</td>\n",
              "      <td>13645</td>\n",
              "    </tr>\n",
              "    <tr>\n",
              "      <th>2</th>\n",
              "      <td>805 N. Calhoun St</td>\n",
              "      <td>0</td>\n",
              "      <td>Old West Baltimore</td>\n",
              "      <td>National District</td>\n",
              "      <td>05/19/2010</td>\n",
              "      <td>06/03/2010</td>\n",
              "      <td>NaN</td>\n",
              "      <td>805 Calhoun St\\nBaltimore, MD\\n(39.297831, -76...</td>\n",
              "      <td>106</td>\n",
              "      <td>53</td>\n",
              "      <td>27301</td>\n",
              "    </tr>\n",
              "    <tr>\n",
              "      <th>3</th>\n",
              "      <td>646 S. Decker Avenue</td>\n",
              "      <td>21224</td>\n",
              "      <td>Canton</td>\n",
              "      <td>National District</td>\n",
              "      <td>03/24/2010</td>\n",
              "      <td>03/29/2010</td>\n",
              "      <td>04/14/2011</td>\n",
              "      <td>646 Decker Avenue\\nBaltimore, MD\\n(39.299122, ...</td>\n",
              "      <td>78</td>\n",
              "      <td>124</td>\n",
              "      <td>13987</td>\n",
              "    </tr>\n",
              "    <tr>\n",
              "      <th>4</th>\n",
              "      <td>2211 Gough Street</td>\n",
              "      <td>21231</td>\n",
              "      <td>Upper Fell's Point</td>\n",
              "      <td>National District</td>\n",
              "      <td>09/13/2010</td>\n",
              "      <td>10/01/2010</td>\n",
              "      <td>05/11/2011</td>\n",
              "      <td>2211 Gough Street\\nBaltimore, MD\\n(39.287956, ...</td>\n",
              "      <td>240</td>\n",
              "      <td>117</td>\n",
              "      <td>27954</td>\n",
              "    </tr>\n",
              "    <tr>\n",
              "      <th>...</th>\n",
              "      <td>...</td>\n",
              "      <td>...</td>\n",
              "      <td>...</td>\n",
              "      <td>...</td>\n",
              "      <td>...</td>\n",
              "      <td>...</td>\n",
              "      <td>...</td>\n",
              "      <td>...</td>\n",
              "      <td>...</td>\n",
              "      <td>...</td>\n",
              "      <td>...</td>\n",
              "    </tr>\n",
              "    <tr>\n",
              "      <th>170</th>\n",
              "      <td>2105 Bank Street</td>\n",
              "      <td>21231</td>\n",
              "      <td>Upper Fell's Point</td>\n",
              "      <td>National District</td>\n",
              "      <td>06/02/2010</td>\n",
              "      <td>06/03/2010</td>\n",
              "      <td>03/17/2011</td>\n",
              "      <td>2105 Bank Street\\nBaltimore, MD\\n(39.286876, -...</td>\n",
              "      <td>240</td>\n",
              "      <td>117</td>\n",
              "      <td>27954</td>\n",
              "    </tr>\n",
              "    <tr>\n",
              "      <th>171</th>\n",
              "      <td>927 N. Calvert St</td>\n",
              "      <td>0</td>\n",
              "      <td>Mount Vernon</td>\n",
              "      <td>Local &amp; National District</td>\n",
              "      <td>02/19/2010</td>\n",
              "      <td>02/25/2010</td>\n",
              "      <td>NaN</td>\n",
              "      <td>927 Calvert St\\nBaltimore, MD\\n(39.294287, -76...</td>\n",
              "      <td>65</td>\n",
              "      <td>6</td>\n",
              "      <td>13645</td>\n",
              "    </tr>\n",
              "    <tr>\n",
              "      <th>172</th>\n",
              "      <td>2553 Madison Avenue</td>\n",
              "      <td>0</td>\n",
              "      <td>Eutaw/Madison, Reservoir Hill</td>\n",
              "      <td>Local &amp; National District</td>\n",
              "      <td>12/07/2010</td>\n",
              "      <td>12/29/2010</td>\n",
              "      <td>NaN</td>\n",
              "      <td>2553 Madison Avenue\\nBaltimore, MD\\n(39.314683...</td>\n",
              "      <td>210</td>\n",
              "      <td>18</td>\n",
              "      <td>27301</td>\n",
              "    </tr>\n",
              "    <tr>\n",
              "      <th>173</th>\n",
              "      <td>2125 McCulloh St</td>\n",
              "      <td>0</td>\n",
              "      <td>Old West Baltimore</td>\n",
              "      <td>National District</td>\n",
              "      <td>12/21/2009</td>\n",
              "      <td>01/06/2010</td>\n",
              "      <td>NaN</td>\n",
              "      <td>2125 McCulloh St\\nBaltimore, MD\\n(39.309018, -...</td>\n",
              "      <td>66</td>\n",
              "      <td>98</td>\n",
              "      <td>27301</td>\n",
              "    </tr>\n",
              "    <tr>\n",
              "      <th>174</th>\n",
              "      <td>1044 N. Broadway</td>\n",
              "      <td>21205</td>\n",
              "      <td>Old East Baltimore</td>\n",
              "      <td>National District</td>\n",
              "      <td>09/21/2010</td>\n",
              "      <td>10/04/2010</td>\n",
              "      <td>05/11/2011</td>\n",
              "      <td>1044 Broadway\\nBaltimore, MD\\n(39.302457, -76....</td>\n",
              "      <td>88</td>\n",
              "      <td>127</td>\n",
              "      <td>13987</td>\n",
              "    </tr>\n",
              "  </tbody>\n",
              "</table>\n",
              "<p>175 rows × 11 columns</p>\n",
              "</div>"
            ],
            "text/plain": [
              "          Property Address  Zip Code  ... 2010 Census Wards Precincts Zip Codes\n",
              "0    142 W. Lanvale Street     21217  ...                         158     13645\n",
              "1         1125 St. Paul St         0  ...                          97     13645\n",
              "2        805 N. Calhoun St         0  ...                          53     27301\n",
              "3     646 S. Decker Avenue     21224  ...                         124     13987\n",
              "4        2211 Gough Street     21231  ...                         117     27954\n",
              "..                     ...       ...  ...                         ...       ...\n",
              "170       2105 Bank Street     21231  ...                         117     27954\n",
              "171      927 N. Calvert St         0  ...                           6     13645\n",
              "172    2553 Madison Avenue         0  ...                          18     27301\n",
              "173       2125 McCulloh St         0  ...                          98     27301\n",
              "174       1044 N. Broadway     21205  ...                         127     13987\n",
              "\n",
              "[175 rows x 11 columns]"
            ]
          },
          "metadata": {
            "tags": []
          },
          "execution_count": 35
        }
      ]
    },
    {
      "cell_type": "code",
      "metadata": {
        "id": "uS3loyKENtDr",
        "colab": {
          "base_uri": "https://localhost:8080/",
          "height": 284
        },
        "outputId": "bbf9c01c-a8ac-4d11-bf5d-3e7bc2128934"
      },
      "source": [
        "approvedapplicants_df.describe()"
      ],
      "execution_count": null,
      "outputs": [
        {
          "output_type": "execute_result",
          "data": {
            "text/html": [
              "<div>\n",
              "<style scoped>\n",
              "    .dataframe tbody tr th:only-of-type {\n",
              "        vertical-align: middle;\n",
              "    }\n",
              "\n",
              "    .dataframe tbody tr th {\n",
              "        vertical-align: top;\n",
              "    }\n",
              "\n",
              "    .dataframe thead th {\n",
              "        text-align: right;\n",
              "    }\n",
              "</style>\n",
              "<table border=\"1\" class=\"dataframe\">\n",
              "  <thead>\n",
              "    <tr style=\"text-align: right;\">\n",
              "      <th></th>\n",
              "      <th>Zip Code</th>\n",
              "      <th>2010 Census Neighborhoods</th>\n",
              "      <th>2010 Census Wards Precincts</th>\n",
              "      <th>Zip Codes</th>\n",
              "    </tr>\n",
              "  </thead>\n",
              "  <tbody>\n",
              "    <tr>\n",
              "      <th>count</th>\n",
              "      <td>175.000000</td>\n",
              "      <td>175.000000</td>\n",
              "      <td>175.000000</td>\n",
              "      <td>175.000000</td>\n",
              "    </tr>\n",
              "    <tr>\n",
              "      <th>mean</th>\n",
              "      <td>11397.942857</td>\n",
              "      <td>126.057143</td>\n",
              "      <td>108.965714</td>\n",
              "      <td>22778.331429</td>\n",
              "    </tr>\n",
              "    <tr>\n",
              "      <th>std</th>\n",
              "      <td>10610.834246</td>\n",
              "      <td>73.049953</td>\n",
              "      <td>67.683331</td>\n",
              "      <td>6555.318333</td>\n",
              "    </tr>\n",
              "    <tr>\n",
              "      <th>min</th>\n",
              "      <td>0.000000</td>\n",
              "      <td>9.000000</td>\n",
              "      <td>6.000000</td>\n",
              "      <td>13642.000000</td>\n",
              "    </tr>\n",
              "    <tr>\n",
              "      <th>25%</th>\n",
              "      <td>0.000000</td>\n",
              "      <td>65.000000</td>\n",
              "      <td>53.000000</td>\n",
              "      <td>13987.000000</td>\n",
              "    </tr>\n",
              "    <tr>\n",
              "      <th>50%</th>\n",
              "      <td>21205.000000</td>\n",
              "      <td>114.000000</td>\n",
              "      <td>121.000000</td>\n",
              "      <td>27295.000000</td>\n",
              "    </tr>\n",
              "    <tr>\n",
              "      <th>75%</th>\n",
              "      <td>21224.000000</td>\n",
              "      <td>180.000000</td>\n",
              "      <td>130.000000</td>\n",
              "      <td>27935.000000</td>\n",
              "    </tr>\n",
              "    <tr>\n",
              "      <th>max</th>\n",
              "      <td>21231.000000</td>\n",
              "      <td>278.000000</td>\n",
              "      <td>287.000000</td>\n",
              "      <td>27954.000000</td>\n",
              "    </tr>\n",
              "  </tbody>\n",
              "</table>\n",
              "</div>"
            ],
            "text/plain": [
              "           Zip Code  ...     Zip Codes\n",
              "count    175.000000  ...    175.000000\n",
              "mean   11397.942857  ...  22778.331429\n",
              "std    10610.834246  ...   6555.318333\n",
              "min        0.000000  ...  13642.000000\n",
              "25%        0.000000  ...  13987.000000\n",
              "50%    21205.000000  ...  27295.000000\n",
              "75%    21224.000000  ...  27935.000000\n",
              "max    21231.000000  ...  27954.000000\n",
              "\n",
              "[8 rows x 4 columns]"
            ]
          },
          "metadata": {
            "tags": []
          },
          "execution_count": 36
        }
      ]
    },
    {
      "cell_type": "markdown",
      "metadata": {
        "id": "jUUoGTLJXPAu"
      },
      "source": [
        "Grouping the zipcodes and preliminary approved applicants and showing their count. Then storing them in a new data frame.Reseting the index values."
      ]
    },
    {
      "cell_type": "code",
      "metadata": {
        "id": "XzH4UdFQNw5G"
      },
      "source": [
        "new_df2 = approvedapplicants_df[[\"Zip Codes\", \"Preliminary Approval\"]].groupby(\"Zip Codes\").count().reset_index()"
      ],
      "execution_count": null,
      "outputs": []
    },
    {
      "cell_type": "code",
      "metadata": {
        "id": "K4amc0AOBSJs",
        "colab": {
          "base_uri": "https://localhost:8080/",
          "height": 195
        },
        "outputId": "f43c9f80-a8dc-49bf-b223-1739f7b8dba0"
      },
      "source": [
        "new_df2.head()"
      ],
      "execution_count": null,
      "outputs": [
        {
          "output_type": "execute_result",
          "data": {
            "text/html": [
              "<div>\n",
              "<style scoped>\n",
              "    .dataframe tbody tr th:only-of-type {\n",
              "        vertical-align: middle;\n",
              "    }\n",
              "\n",
              "    .dataframe tbody tr th {\n",
              "        vertical-align: top;\n",
              "    }\n",
              "\n",
              "    .dataframe thead th {\n",
              "        text-align: right;\n",
              "    }\n",
              "</style>\n",
              "<table border=\"1\" class=\"dataframe\">\n",
              "  <thead>\n",
              "    <tr style=\"text-align: right;\">\n",
              "      <th></th>\n",
              "      <th>Zip Codes</th>\n",
              "      <th>Preliminary Approval</th>\n",
              "    </tr>\n",
              "  </thead>\n",
              "  <tbody>\n",
              "    <tr>\n",
              "      <th>0</th>\n",
              "      <td>13642</td>\n",
              "      <td>3</td>\n",
              "    </tr>\n",
              "    <tr>\n",
              "      <th>1</th>\n",
              "      <td>13645</td>\n",
              "      <td>21</td>\n",
              "    </tr>\n",
              "    <tr>\n",
              "      <th>2</th>\n",
              "      <td>13987</td>\n",
              "      <td>32</td>\n",
              "    </tr>\n",
              "    <tr>\n",
              "      <th>3</th>\n",
              "      <td>14004</td>\n",
              "      <td>2</td>\n",
              "    </tr>\n",
              "    <tr>\n",
              "      <th>4</th>\n",
              "      <td>14009</td>\n",
              "      <td>3</td>\n",
              "    </tr>\n",
              "  </tbody>\n",
              "</table>\n",
              "</div>"
            ],
            "text/plain": [
              "   Zip Codes  Preliminary Approval\n",
              "0      13642                     3\n",
              "1      13645                    21\n",
              "2      13987                    32\n",
              "3      14004                     2\n",
              "4      14009                     3"
            ]
          },
          "metadata": {
            "tags": []
          },
          "execution_count": 38
        }
      ]
    },
    {
      "cell_type": "markdown",
      "metadata": {
        "id": "AjTy_OKMXj8q"
      },
      "source": [
        "Merging both the data frames with an inner joint so the NaN values disappear and we can finally compare."
      ]
    },
    {
      "cell_type": "code",
      "metadata": {
        "id": "uQd0bqDoN5ZL",
        "colab": {
          "base_uri": "https://localhost:8080/",
          "height": 195
        },
        "outputId": "d58e61e6-6284-498c-8d14-ff560296c737"
      },
      "source": [
        "final_df = pd.merge(new_df,new_df2,on='Zip Codes')\n",
        "final_df.columns=['Zip Codes','City Tax', 'Count of Preliminary Approval']\n",
        "final_df.head()"
      ],
      "execution_count": null,
      "outputs": [
        {
          "output_type": "execute_result",
          "data": {
            "text/html": [
              "<div>\n",
              "<style scoped>\n",
              "    .dataframe tbody tr th:only-of-type {\n",
              "        vertical-align: middle;\n",
              "    }\n",
              "\n",
              "    .dataframe tbody tr th {\n",
              "        vertical-align: top;\n",
              "    }\n",
              "\n",
              "    .dataframe thead th {\n",
              "        text-align: right;\n",
              "    }\n",
              "</style>\n",
              "<table border=\"1\" class=\"dataframe\">\n",
              "  <thead>\n",
              "    <tr style=\"text-align: right;\">\n",
              "      <th></th>\n",
              "      <th>Zip Codes</th>\n",
              "      <th>City Tax</th>\n",
              "      <th>Count of Preliminary Approval</th>\n",
              "    </tr>\n",
              "  </thead>\n",
              "  <tbody>\n",
              "    <tr>\n",
              "      <th>0</th>\n",
              "      <td>13642</td>\n",
              "      <td>15564.248050</td>\n",
              "      <td>3</td>\n",
              "    </tr>\n",
              "    <tr>\n",
              "      <th>1</th>\n",
              "      <td>13645</td>\n",
              "      <td>16976.717937</td>\n",
              "      <td>21</td>\n",
              "    </tr>\n",
              "    <tr>\n",
              "      <th>2</th>\n",
              "      <td>13987</td>\n",
              "      <td>2498.055235</td>\n",
              "      <td>32</td>\n",
              "    </tr>\n",
              "    <tr>\n",
              "      <th>3</th>\n",
              "      <td>14004</td>\n",
              "      <td>11578.520853</td>\n",
              "      <td>2</td>\n",
              "    </tr>\n",
              "    <tr>\n",
              "      <th>4</th>\n",
              "      <td>14009</td>\n",
              "      <td>4383.403164</td>\n",
              "      <td>3</td>\n",
              "    </tr>\n",
              "  </tbody>\n",
              "</table>\n",
              "</div>"
            ],
            "text/plain": [
              "   Zip Codes      City Tax  Count of Preliminary Approval\n",
              "0      13642  15564.248050                              3\n",
              "1      13645  16976.717937                             21\n",
              "2      13987   2498.055235                             32\n",
              "3      14004  11578.520853                              2\n",
              "4      14009   4383.403164                              3"
            ]
          },
          "metadata": {
            "tags": []
          },
          "execution_count": 39
        }
      ]
    },
    {
      "cell_type": "markdown",
      "metadata": {
        "id": "vPUKQPn4CFqc"
      },
      "source": [
        "Plotting a scatter plot to compare the CityTax and count of Preliminary Approval credit applicants to prove the (In)Validation of the Hypothesis."
      ]
    },
    {
      "cell_type": "code",
      "metadata": {
        "id": "QR16pAHTSM72",
        "colab": {
          "base_uri": "https://localhost:8080/",
          "height": 312
        },
        "outputId": "6aa07ca3-088a-41d5-c223-5a010c5d3c14"
      },
      "source": [
        "plt.scatter(x = 'City Tax', y='Count of Preliminary Approval', data=final_df)\n",
        "plt.xlabel('City Tax')\n",
        "plt.ylabel('Count of Approval')\n",
        "plt.title('City Tax vs Count of Preliminary Approvals')\n",
        "plt.show()"
      ],
      "execution_count": null,
      "outputs": [
        {
          "output_type": "execute_result",
          "data": {
            "text/plain": [
              "Text(0.5, 1.0, 'City Tax vs Count of Preliminary Approvals')"
            ]
          },
          "metadata": {
            "tags": []
          },
          "execution_count": 42
        },
        {
          "output_type": "display_data",
          "data": {
            "image/png": "[encoded data removed]",
            "text/plain": [
              "<Figure size 432x288 with 1 Axes>"
            ]
          },
          "metadata": {
            "tags": []
          }
        }
      ]
    },
    {
      "cell_type": "markdown",
      "metadata": {
        "id": "aryRA_ZfX6r2"
      },
      "source": [
        "# (In) Validation of Hypothesis.\n",
        "It is evident from the plot that there is nolinear relationship between the amount of tax and the chances of getting pre-approval credits. Thus the hypothesis is Invalid."
      ]
    },
    {
      "cell_type": "markdown",
      "metadata": {
        "id": "0lqNdgLlYRx8"
      },
      "source": [
        "Plotting boxplot to show the quartile values of the mean values of property taxes according to their zipcodes.\n"
      ]
    },
    {
      "cell_type": "code",
      "metadata": {
        "id": "ll7Gs-KrSN_c",
        "colab": {
          "base_uri": "https://localhost:8080/",
          "height": 648
        },
        "outputId": "f3879d68-62c8-4452-f6a4-0bae40453962"
      },
      "source": [
        "fig, ax = plt.subplots(figsize=(16,10))\n",
        "sns.boxplot(x='Zip Codes', y='CityTax', data=propertytaxes_df, showfliers=False)\n",
        "plt.xticks(rotation=45)\n",
        "plt.title('Quartile values of the City Tax per Zip Codes.')\n",
        "plt.show()"
      ],
      "execution_count": null,
      "outputs": [
        {
          "output_type": "display_data",
          "data": {
            "image/png": "[encoded data removed]",
            "text/plain": [
              "<Figure size 1152x720 with 1 Axes>"
            ]
          },
          "metadata": {
            "tags": []
          }
        }
      ]
    },
    {
      "cell_type": "markdown",
      "metadata": {
        "id": "qIlNTIrXFp-a"
      },
      "source": [
        "References\n",
        "1. https://seaborn.pydata.org/generated/seaborn.boxplot.html\n",
        "2. https://matplotlib.org/api/_as_gen/matplotlib.pyplot.scatter.html\n",
        "3. https://data.baltimorecity.gov/\n",
        "4. https://towardsdatascience.com/python-pandas-dataframe-join-merge-and-concatenate-84985c29ef78\n"
      ]
    }
  ]
}